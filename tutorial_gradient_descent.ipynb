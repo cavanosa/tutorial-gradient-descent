{
  "nbformat": 4,
  "nbformat_minor": 0,
  "metadata": {
    "colab": {
      "name": "tutorial_gradient_descent.ipynb",
      "provenance": [],
      "collapsed_sections": [],
      "authorship_tag": "ABX9TyNNLYaTBDvg8gT3TPnX2TLK"
    },
    "kernelspec": {
      "name": "python3",
      "display_name": "Python 3"
    }
  },
  "cells": [
    {
      "cell_type": "code",
      "metadata": {
        "id": "pvI2LjKhCZHQ"
      },
      "source": [
        "import numpy as np\n",
        "import matplotlib.pyplot as plt"
      ],
      "execution_count": null,
      "outputs": []
    },
    {
      "cell_type": "code",
      "metadata": {
        "id": "qJOHircVCg6P"
      },
      "source": [
        "def my_funct(x):\n",
        "  return x**2 - 5*x + 2\n",
        "def derivada(x):\n",
        "  return 2*x -5"
      ],
      "execution_count": null,
      "outputs": []
    },
    {
      "cell_type": "code",
      "metadata": {
        "id": "Bi5aqwUFCukO"
      },
      "source": [
        "x = np.linspace(-20, 20, 100)\n",
        "y = my_funct(x)"
      ],
      "execution_count": null,
      "outputs": []
    },
    {
      "cell_type": "code",
      "metadata": {
        "id": "X39Tuw95C2ap"
      },
      "source": [
        "lr = 0.1\n",
        "init_x = -15\n",
        "init_y = my_funct(init_x)\n",
        "dx = derivada(init_x)\n",
        "px = init_x - dx * lr\n",
        "py = my_funct(px)"
      ],
      "execution_count": null,
      "outputs": []
    },
    {
      "cell_type": "code",
      "metadata": {
        "colab": {
          "base_uri": "https://localhost:8080/",
          "height": 438
        },
        "id": "93udkJR6EdxZ",
        "outputId": "9a6ae7e6-624d-467b-bbd8-2609ac36ddbb"
      },
      "source": [
        "plt.plot(x, y)\n",
        "plt.plot(init_x, init_y, 'bo')\n",
        "plt.plot(px, py, 'bo')\n",
        "for i in range(10):\n",
        "  px = px - derivada(px) * lr\n",
        "  py = my_funct(px)\n",
        "  plt.plot(px, py, 'bo')\n",
        "  print(derivada(px))\n"
      ],
      "execution_count": null,
      "outputs": [
        {
          "output_type": "stream",
          "text": [
            "-22.4\n",
            "-17.919999999999998\n",
            "-14.335999999999999\n",
            "-11.468799999999998\n",
            "-9.17504\n",
            "-7.340031999999998\n",
            "-5.872025599999999\n",
            "-4.6976204799999985\n",
            "-3.758096383999999\n",
            "-3.006477107199999\n"
          ],
          "name": "stdout"
        },
        {
          "output_type": "display_data",
          "data": {
            "image/png": "[encoded data removed]",
            "text/plain": [
              "<Figure size 432x288 with 1 Axes>"
            ]
          },
          "metadata": {
            "tags": [],
            "needs_background": "light"
          }
        }
      ]
    }
  ]
}